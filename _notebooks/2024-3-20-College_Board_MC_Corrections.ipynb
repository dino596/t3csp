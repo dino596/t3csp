{
 "cells": [
  {
   "cell_type": "markdown",
   "metadata": {},
   "source": [
    "---\n",
    "layout: post\n",
    "title: College Board MCQ Corrections\n",
    "type: plans\n",
    "courses: { compsci: {week: 4} }\n",
    "---"
   ]
  },
  {
   "cell_type": "markdown",
   "metadata": {},
   "source": [
    "Question #3:\n",
    "Consider the following code segment.\n",
    "\n",
    "first <- 100\n",
    "second <- 200\n",
    "temp <- first\n",
    "second <- temp\n",
    "first <- second\n",
    "\n",
    "What are the values of first and second as a result of executing the code segment?\n",
    "\n",
    "I chose the incorrect answer because I mistook this algorithm as an algorithm to swap the data in 2 different variables. However, the block \"first <- second\" was after the \"second <- temp\" block.\n",
    "\n",
    "Question #4:\n",
    "Which of the following best explains the relationship between the Internet and the World Wide Web?\n",
    "\n",
    "I thought the Internet is an interconnected network of data servers, and the World Wide Web is a network of user devices that communicates with the data servers. However, the Internet is a network of interconnected networks, and the World Wide Web is a system of linked pages, programs, and files that is accessed via the Internet.\n",
    "\n",
    "Question #9:\n",
    "Which of the following best explains how an analog audio signal is typically represented by a computer?\n",
    "\n",
    "An analog audio signal is measured at regular intervals. Each measurement is stored as a sample, which is represented at the lowest level as a sequence of bits. I didn't know because I never learned about analog audio signals.\n",
    "\n",
    "Question #23:\n",
    "Which of the following statements about the Internet is true?\n",
    "\n",
    "The Internet is designed to scale to support an increasing number of users.\n",
    "I chose that the Internet is a computer network that uses proprietary communication protocols, because I did not know that the internet uses open, standardized, nonproprietary communication protocols.\n",
    "\n",
    "Question #26:\n",
    "Which of the following best describes a challenge involved in using a parallel computing solution?\n",
    "\n",
    "A parallel computing solution may not be appropriate for an algorithm in which each step requires the output from the preceding step.\n",
    "\n",
    "Question #38:\n",
    "A scientist wants to investigate several problems. In which of the following situations is using a simulation LEAST suitable for solving a problem?\n",
    "\n",
    "I read the question wrong and thought it was most suitable...\n",
    "\n",
    "Question #39:\n",
    "A store uses binary numbers to assign a unique binary sequence to each item in its inventory. What is the minimum number of bits required for each binary sequence if the store has between 75 and 100 items in its inventory?\n",
    "\n",
    "I chose 8 because I miscalculated 2^8 as 128, but 2^7=128.\n",
    "\n",
    "Question #47:\n",
    "Which of the following best explains the ability to solve problems algorithmically?\n",
    "\n",
    "I thought any problem could be solved with an algorithm as long as a human verifies the results, but I forgot about the existence of the undecidable problems."
   ]
  }
 ],
 "metadata": {
  "language_info": {
   "name": "python"
  }
 },
 "nbformat": 4,
 "nbformat_minor": 2
}
