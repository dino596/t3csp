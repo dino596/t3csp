{
 "cells": [
  {
   "cell_type": "markdown",
   "metadata": {},
   "source": [
    "---\n",
    "layout: post\n",
    "title: Individual Seed\n",
    "type: plans\n",
    "courses: { compsci: {week: 4} }\n",
    "---"
   ]
  },
  {
   "cell_type": "markdown",
   "metadata": {},
   "source": [
    "\n",
    "## Midterm Grade\n",
    "[![image.png](https://i.postimg.cc/vHzkFbnX/image.png)](https://postimg.cc/4mYBpCBh)\n",
    "\n",
    "## Final Grade\n",
    "[![image.png](https://i.postimg.cc/659bhgPZ/image.png)](https://postimg.cc/G95jL7d3)\n",
    "\n",
    "## Contributions\n",
    "[![image.png](https://i.postimg.cc/x1d6HmZV/image.png)](https://postimg.cc/qz9cHN01)\n",
    "\n",
    "Last trimester, I played a pivotal role in both frontend and backend development within our project. While I took the lead in developing the majority of our backend infrastructure, including creating and managing databases for college data and login credentials, I also actively collaborated with my teammates on frontend tasks.\n",
    "\n",
    "In the backend, I spearheaded the creation of databases to store comprehensive college information and login credentials for authentication purposes. This involved meticulous planning and execution to ensure seamless integration with our frontend components.\n",
    "\n",
    "Simultaneously, I worked closely with my teammates on frontend development, contributing to debugging efforts for critical components such as quizzes and lists. This collaborative approach allowed us to address issues efficiently and deliver a cohesive, high-quality product.\n",
    "\n",
    "By actively engaging in both frontend and backend tasks, I was able to leverage my skills and expertise while also fostering a culture of teamwork and collaboration within our project team.\n",
    "\n",
    "## Key Commits\n",
    "backend:\n",
    "- [finished college data in data table](https://github.com/dino596/scholarSearchBackend/commit/4b3effb0238bbd4b89eccfee350dbff061bdb7ed)\n",
    "- [fixed login](https://github.com/dino596/scholarSearchBackend/commit/1290a3ed70768486c7d19fb79a93882287947b7d)\n"
   ]
  },
  {
   "cell_type": "markdown",
   "metadata": {},
   "source": [
    "frontend:\n",
    "- [finished profile](https://github.com/dino596/scholarSearch/commit/a302bb67ccaf6ec0fa3d645e951061ed4f3a7bf6)\n",
    "- [quiz debug](https://github.com/dino596/scholarSearch/commit/ad6e31ba973322189575900a6e29a5023093518a)\n",
    "- [auto-updating search function](https://github.com/dino596/scholarSearch/commit/c6dd55d23e0740b78b6294ad8c497308a3a9d262)\n",
    "- [initial html and css](https://github.com/dino596/scholarSearch/commit/56c60ab8494e6e5b635a059b8017eca80db614a8)"
   ]
  },
  {
   "cell_type": "markdown",
   "metadata": {},
   "source": [
    "\n",
    "Last trimester, I fulfilled the role of Scrum Master for our team, where we focused on leveraging teamwork to optimize our project's outcomes. We began by collectively outlining our project's objectives and structure, ensuring that each team member had a clear understanding and input into our direction.\n",
    "\n",
    "To promote collaboration and accountability, I facilitated the division of tasks into manageable segments, allowing team members to choose areas of focus based on their expertise and interests. This approach fostered a sense of ownership and autonomy among team members, while also encouraging mutual support and assistance when needed.\n",
    "\n",
    "Through a pragmatic approach to teamwork, we were able to effectively address challenges and achieve our project goals. Our success stemmed from a collective commitment to working together efficiently and leveraging each other's strengths to deliver quality outcomes."
   ]
  }
 ],
 "metadata": {
  "language_info": {
   "name": "python"
  }
 },
 "nbformat": 4,
 "nbformat_minor": 2
}
